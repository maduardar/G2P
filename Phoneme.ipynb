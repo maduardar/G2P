{
 "cells": [
  {
   "cell_type": "markdown",
   "metadata": {},
   "source": [
    "## Imports"
   ]
  },
  {
   "cell_type": "code",
   "execution_count": 2,
   "metadata": {
    "collapsed": true
   },
   "outputs": [],
   "source": [
    "import numpy as np\n",
    "import tqdm\n",
    "from tqdm import tqdm_notebook as tqdmnb\n",
    "import math\n",
    "import tensorflow as tf\n",
    "import pandas as pd"
   ]
  },
  {
   "cell_type": "markdown",
   "metadata": {},
   "source": [
    "## Loading data"
   ]
  },
  {
   "cell_type": "code",
   "execution_count": 3,
   "metadata": {
    "collapsed": true
   },
   "outputs": [],
   "source": [
    "text = open('train.txt', 'r')\n",
    "word_dict = {}\n",
    "for lines in text:\n",
    "    line = lines.split()\n",
    "    for words in line[1:]:\n",
    "        word_dict.update({line[0] : words})\n",
    "dictionary = word_dict\n",
    "reverse_dictionary = dict([(v, k) for k, v in dictionary.items()])"
   ]
  },
  {
   "cell_type": "markdown",
   "metadata": {
    "collapsed": true
   },
   "source": [
    "### Баловство"
   ]
  },
  {
   "cell_type": "code",
   "execution_count": 25,
   "metadata": {},
   "outputs": [
    {
     "name": "stdout",
     "output_type": "stream",
     "text": [
      "R \t 20421 \t R\n",
      "N \t 21124 \t CH\n",
      "U \t 0 \t N\n",
      "G \t 6149 \t IY\n",
      "C \t 0 \t IY\n",
      "B \t 9752 \t B\n",
      "E \t 0 \t EH\n",
      "I \t 0 \t IH\n",
      "L \t 19260 \t L\n",
      "Z \t 2062 \t Z\n",
      "Q \t 0 \t K\n",
      "M \t 12589 \t AO\n",
      "F \t 5573 \t F\n",
      "X \t 0 \t K\n",
      "K \t 5399 \t K\n",
      "O \t 0 \t D\n",
      "Y \t 571 \t S\n",
      "W \t 2866 \t IH\n",
      "J \t 0 \t JH\n",
      "H \t 0 \t HH\n",
      "A \t 0 \t AO\n",
      "S \t 16709 \t S\n",
      "P \t 9572 \t AH\n",
      "D \t 11822 \t AH\n",
      "V \t 4890 \t NG\n",
      "T \t 17937 \t AH\n"
     ]
    }
   ],
   "source": [
    "simb2phonDict = {}\n",
    "gr2coinc = {}\n",
    "from string import ascii_uppercase\n",
    "for let in ascii_uppercase:\n",
    "    gr2coinc.update({let: 0})\n",
    "phoneme_set = set()\n",
    "phonemes = reverse_dictionary.keys()\n",
    "ok = 0\n",
    "for phoneme in phonemes:\n",
    "    grapheme = list(reverse_dictionary[phoneme])\n",
    "    phoneme = phoneme.split('_')\n",
    "    for p in phoneme:\n",
    "        phoneme_set.add(p)\n",
    "    sz = min(len(grapheme), len(phoneme))\n",
    "    for i in range(sz):\n",
    "        simb2phonDict.update({grapheme[i]: phoneme[i]})\n",
    "        if grapheme[i] == phoneme[i]:\n",
    "            gr2coinc[grapheme[i]] += 1\n",
    "for g in gr2coinc.keys():\n",
    "    print(g, \"\\t\", gr2coinc[g], \"\\t\", simb2phonDict[g])\n",
    "# for g in simb2phonDict.keys():\n",
    "#     print(g, \"\\t\", simb2phonDict[g])"
   ]
  },
  {
   "cell_type": "markdown",
   "metadata": {},
   "source": [
    "## Preparing data"
   ]
  },
  {
   "cell_type": "code",
   "execution_count": null,
   "metadata": {
    "collapsed": true
   },
   "outputs": [],
   "source": []
  },
  {
   "cell_type": "code",
   "execution_count": 5,
   "metadata": {
    "collapsed": true
   },
   "outputs": [],
   "source": [
    "X_vocab = {}\n",
    "for let in ascii_uppercase:\n",
    "    X_vocab.update({let: 0})\n",
    "X_vocab.update({\"'\" : 0, '-' : 0})\n",
    "sz2 = 0\n",
    "for gr in dictionary.keys():\n",
    "    for l in gr:\n",
    "        if l in X_vocab.keys():\n",
    "            X_vocab[l] += 1\n",
    "        else:\n",
    "            X_vocab.update({'UNK': 0})\n",
    "            print(gr)\n",
    "    if len(gr) > sz2:\n",
    "        sz2 = len(gr)\n"
   ]
  },
  {
   "cell_type": "code",
   "execution_count": 6,
   "metadata": {},
   "outputs": [
    {
     "name": "stdout",
     "output_type": "stream",
     "text": [
      "dict_items([('R', 47637), ('N', 44939), ('U', 18607), ('G', 16816), ('-', 649), (\"'\", 4907), ('C', 23850), ('B', 13850), ('E', 69983), ('I', 46686), ('L', 35662), ('Z', 3918), ('Q', 832), ('M', 19204), ('F', 8552), ('X', 1424), ('K', 11002), ('O', 39591), ('Y', 9888), ('W', 6829), ('J', 1662), ('H', 17889), ('A', 54333), ('S', 46389), ('P', 14006), ('D', 21402), ('V', 6467), ('T', 35700)])\n"
     ]
    }
   ],
   "source": [
    "print(X_vocab.items())"
   ]
  },
  {
   "cell_type": "code",
   "execution_count": 7,
   "metadata": {
    "collapsed": true
   },
   "outputs": [],
   "source": [
    "import operator\n",
    "X_sorted = [k for k, v in sorted(X_vocab.items(), key=operator.itemgetter(1))][::-1]"
   ]
  },
  {
   "cell_type": "code",
   "execution_count": 8,
   "metadata": {
    "collapsed": true
   },
   "outputs": [],
   "source": [
    "X_let_to_ix = {'ZERO' : 0}\n",
    "v = 1\n",
    "for k in X_sorted:\n",
    "    X_let_to_ix.update({k : v})\n",
    "    v += 1\n",
    "X_let_to_ix.update({\"UNK\" : v})"
   ]
  },
  {
   "cell_type": "code",
   "execution_count": 9,
   "metadata": {
    "collapsed": true
   },
   "outputs": [],
   "source": [
    "X_ix_to_let = dict([(v, k) for k, v in X_let_to_ix.items()])"
   ]
  },
  {
   "cell_type": "code",
   "execution_count": 10,
   "metadata": {},
   "outputs": [],
   "source": [
    "sz1 = len(dictionary.keys())\n",
    "X_train = np.zeros((sz1, sz2))\n",
    "i, j = 0, 0\n",
    "for g in dictionary.keys():\n",
    "    j = 0\n",
    "    for l in g:\n",
    "        X_train[i][j] = X_let_to_ix[l]\n",
    "        j += 1\n",
    "    i += 1"
   ]
  },
  {
   "cell_type": "code",
   "execution_count": 11,
   "metadata": {},
   "outputs": [
    {
     "ename": "NameError",
     "evalue": "name 'X' is not defined",
     "output_type": "error",
     "traceback": [
      "\u001b[0;31m---------------------------------------------------------------------------\u001b[0m",
      "\u001b[0;31mNameError\u001b[0m                                 Traceback (most recent call last)",
      "\u001b[0;32m<ipython-input-11-b4a434652c8a>\u001b[0m in \u001b[0;36m<module>\u001b[0;34m()\u001b[0m\n\u001b[0;32m----> 1\u001b[0;31m \u001b[0mprint\u001b[0m\u001b[0;34m(\u001b[0m\u001b[0mX\u001b[0m\u001b[0;34m)\u001b[0m\u001b[0;34m\u001b[0m\u001b[0m\n\u001b[0m",
      "\u001b[0;31mNameError\u001b[0m: name 'X' is not defined"
     ]
    }
   ],
   "source": [
    "print(X)"
   ]
  },
  {
   "cell_type": "code",
   "execution_count": 13,
   "metadata": {},
   "outputs": [
    {
     "name": "stdout",
     "output_type": "stream",
     "text": [
      "83194\n"
     ]
    }
   ],
   "source": [
    "print(len(dictionary.keys()))"
   ]
  },
  {
   "cell_type": "code",
   "execution_count": 28,
   "metadata": {},
   "outputs": [
    {
     "name": "stdout",
     "output_type": "stream",
     "text": [
      "39\n"
     ]
    }
   ],
   "source": [
    "print(len(phoneme_set))"
   ]
  },
  {
   "cell_type": "code",
   "execution_count": 24,
   "metadata": {},
   "outputs": [
    {
     "name": "stdout",
     "output_type": "stream",
     "text": [
      "R\n",
      "G\n",
      "B\n",
      "P\n",
      "_\n",
      "S\n",
      "T\n",
      "M\n",
      "K\n",
      "A\n",
      "W\n",
      "H\n",
      "D\n",
      "V\n",
      "N\n",
      "U\n",
      "C\n",
      "E\n",
      "I\n",
      "L\n",
      "Z\n",
      "O\n",
      "Y\n",
      "J\n",
      "F\n"
     ]
    }
   ],
   "source": []
  },
  {
   "cell_type": "code",
   "execution_count": null,
   "metadata": {
    "collapsed": true
   },
   "outputs": [],
   "source": []
  },
  {
   "cell_type": "code",
   "execution_count": null,
   "metadata": {
    "collapsed": true
   },
   "outputs": [],
   "source": []
  }
 ],
 "metadata": {
  "kernelspec": {
   "display_name": "Python 3",
   "language": "python",
   "name": "python3"
  },
  "language_info": {
   "codemirror_mode": {
    "name": "ipython",
    "version": 3
   },
   "file_extension": ".py",
   "mimetype": "text/x-python",
   "name": "python",
   "nbconvert_exporter": "python",
   "pygments_lexer": "ipython3",
   "version": "3.5.0"
  }
 },
 "nbformat": 4,
 "nbformat_minor": 2
}
